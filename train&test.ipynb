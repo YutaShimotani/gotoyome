{
 "cells": [
  {
   "cell_type": "code",
   "execution_count": 11,
   "id": "c86453eb-aa5f-4bc8-9e69-aeed7b8ec984",
   "metadata": {},
   "outputs": [],
   "source": [
    "import numpy as np\n",
    "import pandas as pd\n",
    "import itertools\n",
    "import shutil\n",
    "from PIL import Image\n",
    "import os\n",
    "\n",
    "import torch\n",
    "from torch import nn, utils, optim\n",
    "from torchvision import transforms, models\n",
    "from sklearn.metrics import f1_score, accuracy_score"
   ]
  },
  {
   "cell_type": "code",
   "execution_count": 12,
   "id": "78f06163-812c-4095-a92b-6a177d0d653c",
   "metadata": {},
   "outputs": [],
   "source": [
    "class CustomDataset(torch.utils.data.Dataset):\n",
    "    def __init__(self, root, transform=None, content=\"train\"):\n",
    "        self.transform = transform\n",
    "        self.images = []\n",
    "        self.labels = []\n",
    "        \n",
    "        self.root = root\n",
    "        \n",
    "        names = [\"ichika\", \"nino\", \"miku\", \"yotsuba\", \"itsuki\"]\n",
    "        for i, name in enumerate(names):\n",
    "            if content == \"train\":\n",
    "                path = os.path.join(self.root, \"train\", name)\n",
    "            elif content == \"val\":\n",
    "                path = os.path.join(self.root, \"valid\", name)\n",
    "            else:\n",
    "                path = os.path.join(self.root, \"test\", name)\n",
    "                \n",
    "            images = os.listdir(path)\n",
    "            labels = [i] * len(images)\n",
    "            for image, label in zip(images, labels):\n",
    "                self.images.append(os.path.join(path, image))\n",
    "                self.labels.append(label)\n",
    "                \n",
    "    def __getitem__(self, index):\n",
    "        image = self.images[index]\n",
    "        label = self.labels[index]\n",
    "        with open(image, \"rb\") as f:\n",
    "            image = Image.open(image)\n",
    "            image = image.convert(\"RGB\")\n",
    "        if self.transform is not None:\n",
    "            image = self.transform(image)\n",
    "        return image, label\n",
    "    \n",
    "    def __len__(self):\n",
    "        return len(self.images)"
   ]
  },
  {
   "cell_type": "code",
   "execution_count": 13,
   "id": "b47a59e2-6183-4eb7-9a49-86b71e58d63e",
   "metadata": {},
   "outputs": [],
   "source": [
    "data_transforms = {\n",
    "    \"train\": transforms.Compose([\n",
    "        transforms.Resize((224, 224)),\n",
    "        transforms.RandomRotation(15),\n",
    "        transforms.RandomHorizontalFlip(0.5),\n",
    "        transforms.RandomVerticalFlip(0.5),\n",
    "        transforms.ColorJitter(brightness=0.4),\n",
    "        transforms.RandomGrayscale(0.1),\n",
    "        transforms.ToTensor(),\n",
    "        transforms.RandomErasing(),\n",
    "        transforms.Normalize(mean=[0.485, 0.456, 0.406],\n",
    "           std=[0.229, 0.224, 0.225])\n",
    "    ]),\n",
    "    \"val\": transforms.Compose([\n",
    "        transforms.Resize((224, 224)),\n",
    "        transforms.ToTensor(),\n",
    "        transforms.Normalize(mean=[0.485, 0.456, 0.406],\n",
    "            std=[0.229, 0.224, 0.225])\n",
    "    ])\n",
    "}\n",
    "to_tensor_transforms = transforms.Compose([\n",
    "        transforms.Resize((224, 224)),\n",
    "        transforms.ToTensor()\n",
    "    ])"
   ]
  },
  {
   "cell_type": "code",
   "execution_count": 14,
   "id": "9b50d76d-cea6-4e45-acd4-c89362eeb693",
   "metadata": {},
   "outputs": [],
   "source": [
    "train_dataset = CustomDataset(\"gotobunnohanayome\", data_transforms[\"train\"], content=\"train\")\n",
    "train_loader = torch.utils.data.DataLoader(dataset=train_dataset, batch_size=16, shuffle=True, num_workers=0)\n",
    "val_dataset = CustomDataset(\"gotobunnohanayome\", data_transforms[\"val\"], content=\"val\")\n",
    "val_loader = torch.utils.data.DataLoader(dataset=val_dataset, batch_size=4, shuffle=False, num_workers=0)"
   ]
  },
  {
   "cell_type": "code",
   "execution_count": 6,
   "id": "42a1fcbe-db60-450d-b83d-1d2420711b98",
   "metadata": {},
   "outputs": [],
   "source": [
    "USE_DEVICE = \"cuda:0\" if torch.cuda.is_available() else \"cpu\"\n",
    "\n",
    "#torch.backends.cudnn.deterministic = True\n",
    "#torch.backends.cudnn.benchmark = False"
   ]
  },
  {
   "cell_type": "code",
   "execution_count": 7,
   "id": "557491ee-8715-45ec-afb8-393aa84c8c1a",
   "metadata": {},
   "outputs": [],
   "source": [
    "model = models.densenet121(pretrained=True)\n",
    "model = model.to(USE_DEVICE)\n",
    "num_ftrs = model.classifier.in_features\n",
    "model.classifier = nn.Linear(num_ftrs, 5).to(USE_DEVICE)"
   ]
  },
  {
   "cell_type": "code",
   "execution_count": 8,
   "id": "d843d75f-beab-4458-85e0-d384e26074df",
   "metadata": {},
   "outputs": [],
   "source": [
    "criterion = nn.CrossEntropyLoss()\n",
    "optimizer = optim.SGD(model.parameters(), lr=0.01, momentum=0.9, weight_decay=5e-4)\n",
    "lr_scheduler = torch.optim.lr_scheduler.StepLR(optimizer, step_size=10, gamma=0.1)"
   ]
  },
  {
   "cell_type": "code",
   "execution_count": 25,
   "id": "9e4c4ba7-fb7d-4029-ad76-3ade7276628a",
   "metadata": {},
   "outputs": [
    {
     "name": "stdout",
     "output_type": "stream",
     "text": [
      "Epoch [1/50], Loss: 0.0723, val_loss: 1.0368, val_acc: 0.4108, lr：0.01\n",
      "Epoch [2/50], Loss: 0.0743, val_loss: 1.0590, val_acc: 0.5516, lr：0.01\n",
      "Epoch [3/50], Loss: 0.0718, val_loss: 0.2471, val_acc: 0.8357, lr：0.01\n",
      "Epoch [4/50], Loss: 0.0431, val_loss: 0.2358, val_acc: 0.8521, lr：0.01\n",
      "Epoch [5/50], Loss: 0.0394, val_loss: 0.1381, val_acc: 0.9085, lr：0.01\n",
      "Epoch [6/50], Loss: 0.0289, val_loss: 0.0847, val_acc: 0.9225, lr：0.01\n",
      "Epoch [7/50], Loss: 0.0261, val_loss: 0.0917, val_acc: 0.9038, lr：0.01\n",
      "Epoch [8/50], Loss: 0.0204, val_loss: 0.0585, val_acc: 0.9531, lr：0.01\n",
      "Epoch [9/50], Loss: 0.0205, val_loss: 0.0448, val_acc: 0.9554, lr：0.01\n",
      "Epoch [10/50], Loss: 0.0142, val_loss: 0.0407, val_acc: 0.9695, lr：0.001\n",
      "Epoch [11/50], Loss: 0.0110, val_loss: 0.0402, val_acc: 0.9765, lr：0.001\n",
      "Epoch [12/50], Loss: 0.0122, val_loss: 0.0378, val_acc: 0.9742, lr：0.001\n",
      "Epoch [13/50], Loss: 0.0095, val_loss: 0.0407, val_acc: 0.9742, lr：0.001\n",
      "Epoch [14/50], Loss: 0.0101, val_loss: 0.0389, val_acc: 0.9742, lr：0.001\n",
      "Epoch [15/50], Loss: 0.0098, val_loss: 0.0375, val_acc: 0.9765, lr：0.001\n",
      "Epoch [16/50], Loss: 0.0084, val_loss: 0.0369, val_acc: 0.9789, lr：0.001\n",
      "Epoch [17/50], Loss: 0.0107, val_loss: 0.0377, val_acc: 0.9765, lr：0.001\n",
      "Epoch [18/50], Loss: 0.0091, val_loss: 0.0366, val_acc: 0.9765, lr：0.001\n",
      "Epoch [19/50], Loss: 0.0087, val_loss: 0.0383, val_acc: 0.9742, lr：0.001\n",
      "Epoch [20/50], Loss: 0.0080, val_loss: 0.0368, val_acc: 0.9765, lr：0.0001\n",
      "Epoch [21/50], Loss: 0.0095, val_loss: 0.0387, val_acc: 0.9718, lr：0.0001\n",
      "Epoch [22/50], Loss: 0.0073, val_loss: 0.0389, val_acc: 0.9718, lr：0.0001\n",
      "Epoch [23/50], Loss: 0.0088, val_loss: 0.0383, val_acc: 0.9765, lr：0.0001\n",
      "Epoch [24/50], Loss: 0.0092, val_loss: 0.0367, val_acc: 0.9812, lr：0.0001\n",
      "Epoch [25/50], Loss: 0.0083, val_loss: 0.0369, val_acc: 0.9765, lr：0.0001\n",
      "Epoch [26/50], Loss: 0.0086, val_loss: 0.0384, val_acc: 0.9718, lr：0.0001\n",
      "Epoch [27/50], Loss: 0.0079, val_loss: 0.0365, val_acc: 0.9765, lr：0.0001\n",
      "Epoch [28/50], Loss: 0.0089, val_loss: 0.0371, val_acc: 0.9765, lr：0.0001\n",
      "Epoch [29/50], Loss: 0.0077, val_loss: 0.0401, val_acc: 0.9718, lr：0.0001\n",
      "Epoch [30/50], Loss: 0.0081, val_loss: 0.0369, val_acc: 0.9789, lr：1e-05\n",
      "Epoch [31/50], Loss: 0.0078, val_loss: 0.0374, val_acc: 0.9765, lr：1e-05\n",
      "Epoch [32/50], Loss: 0.0077, val_loss: 0.0369, val_acc: 0.9812, lr：1e-05\n",
      "Epoch [33/50], Loss: 0.0082, val_loss: 0.0398, val_acc: 0.9742, lr：1e-05\n",
      "Epoch [34/50], Loss: 0.0086, val_loss: 0.0363, val_acc: 0.9789, lr：1e-05\n",
      "Epoch [35/50], Loss: 0.0071, val_loss: 0.0394, val_acc: 0.9718, lr：1e-05\n",
      "Epoch [36/50], Loss: 0.0076, val_loss: 0.0376, val_acc: 0.9765, lr：1e-05\n",
      "Epoch [37/50], Loss: 0.0084, val_loss: 0.0389, val_acc: 0.9742, lr：1e-05\n",
      "Epoch [38/50], Loss: 0.0086, val_loss: 0.0364, val_acc: 0.9765, lr：1e-05\n",
      "Epoch [39/50], Loss: 0.0097, val_loss: 0.0370, val_acc: 0.9789, lr：1e-05\n",
      "Epoch [40/50], Loss: 0.0079, val_loss: 0.0366, val_acc: 0.9789, lr：1.0000000000000002e-06\n",
      "Epoch [41/50], Loss: 0.0095, val_loss: 0.0388, val_acc: 0.9742, lr：1.0000000000000002e-06\n",
      "Epoch [42/50], Loss: 0.0089, val_loss: 0.0378, val_acc: 0.9812, lr：1.0000000000000002e-06\n",
      "Epoch [43/50], Loss: 0.0081, val_loss: 0.0388, val_acc: 0.9742, lr：1.0000000000000002e-06\n",
      "Epoch [44/50], Loss: 0.0078, val_loss: 0.0379, val_acc: 0.9789, lr：1.0000000000000002e-06\n",
      "Epoch [45/50], Loss: 0.0075, val_loss: 0.0381, val_acc: 0.9765, lr：1.0000000000000002e-06\n",
      "Epoch [46/50], Loss: 0.0083, val_loss: 0.0385, val_acc: 0.9765, lr：1.0000000000000002e-06\n",
      "Epoch [47/50], Loss: 0.0089, val_loss: 0.0382, val_acc: 0.9765, lr：1.0000000000000002e-06\n",
      "Epoch [48/50], Loss: 0.0072, val_loss: 0.0390, val_acc: 0.9765, lr：1.0000000000000002e-06\n",
      "Epoch [49/50], Loss: 0.0085, val_loss: 0.0387, val_acc: 0.9765, lr：1.0000000000000002e-06\n",
      "Epoch [50/50], Loss: 0.0083, val_loss: 0.0372, val_acc: 0.9812, lr：1.0000000000000002e-07\n"
     ]
    }
   ],
   "source": [
    "num_epochs = 50\n",
    "\n",
    "train_loss_list = []\n",
    "train_acc_list = []\n",
    "val_loss_list = []\n",
    "val_acc_list = []\n",
    "\n",
    "if not os.path.exists(\"gotobunnohanayome/tmp\"):\n",
    "    os.mkdir(\"gotobunnohanayome/tmp\")\n",
    "if not os.path.exists(\"gotobunnohanayome/params\"):\n",
    "    os.mkdir(\"gotobunnohanayome/params\")\n",
    "    \n",
    "for epoch in range(num_epochs):\n",
    "    train_loss = 0\n",
    "    train_acc = 0\n",
    "    val_loss = 0\n",
    "    val_acc = 0\n",
    "    \n",
    "    #train\n",
    "    model.train()\n",
    "    for i, (images, labels) in enumerate(train_loader):\n",
    "      images, labels = images.to(USE_DEVICE), labels.to(USE_DEVICE)\n",
    "      \n",
    "      optimizer.zero_grad()\n",
    "      outputs = model(images)\n",
    "      loss = criterion(outputs, labels)\n",
    "      train_loss += loss.item()\n",
    "      train_acc += (outputs.max(1)[1] == labels).sum().item()\n",
    "      loss.backward()\n",
    "      optimizer.step()\n",
    "    \n",
    "    avg_train_loss = train_loss / len(train_loader.dataset)\n",
    "    avg_train_acc = train_acc / len(train_loader.dataset)\n",
    "    \n",
    "    #val\n",
    "    model.eval()\n",
    "    with torch.no_grad():\n",
    "      for images, labels in val_loader:\n",
    "        images = images.to(USE_DEVICE)\n",
    "        labels = labels.to(USE_DEVICE)\n",
    "        outputs = model(images)\n",
    "        loss = criterion(outputs, labels)\n",
    "        val_loss += loss.item()\n",
    "        val_acc += (outputs.max(1)[1] == labels).sum().item()\n",
    "    avg_val_loss = val_loss / len(val_loader.dataset)\n",
    "    avg_val_acc = val_acc / len(val_loader.dataset)\n",
    "    \n",
    "    print ('Epoch [{}/{}], Loss: {loss:.4f}, val_loss: {val_loss:.4f}, val_acc: {val_acc:.4f}, lr：{learning_rate}' \n",
    "                       .format(epoch+1, num_epochs, i+1, loss=avg_train_loss, val_loss=avg_val_loss, val_acc=avg_val_acc, learning_rate=optimizer.param_groups[0][\"lr\"]))\n",
    "    #学習率調整\n",
    "    lr_scheduler.step()\n",
    "    train_loss_list.append(avg_train_loss)\n",
    "    train_acc_list.append(avg_train_acc)\n",
    "    val_loss_list.append(avg_val_loss)\n",
    "    val_acc_list.append(avg_val_acc)\n",
    "    \n",
    "    torch.save(model.state_dict(), f\"gotobunnohanayome/tmp/checkpoint{epoch}.pth\")\n",
    "    \n",
    "best_epoch = np.argmax(val_acc_list)\n",
    "shutil.copyfile(f\"gotobunnohanayome/tmp/checkpoint{best_epoch}.pth\", \"gotobunnohanayome/params/model1.pth\")\n",
    "shutil.rmtree(\"gotobunnohanayome/tmp\")"
   ]
  },
  {
   "cell_type": "code",
   "execution_count": 26,
   "id": "d8cfd208-1907-4791-993c-517723a90e19",
   "metadata": {},
   "outputs": [
    {
     "data": {
      "image/png": "[encoded data removed]",
      "text/plain": [
       "<Figure size 432x288 with 1 Axes>"
      ]
     },
     "metadata": {
      "needs_background": "light"
     },
     "output_type": "display_data"
    },
    {
     "data": {
      "image/png": "[encoded data removed]",
      "text/plain": [
       "<Figure size 432x288 with 1 Axes>"
      ]
     },
     "metadata": {
      "needs_background": "light"
     },
     "output_type": "display_data"
    }
   ],
   "source": [
    "import matplotlib.pyplot as plt\n",
    "%matplotlib inline\n",
    "\n",
    "plt.figure()\n",
    "plt.plot(range(num_epochs), train_loss_list, color='blue', linestyle='-', label='train_loss')\n",
    "plt.plot(range(num_epochs), val_loss_list, color='green', linestyle='--', label='val_loss')\n",
    "plt.legend()\n",
    "plt.xlabel('epoch')\n",
    "plt.ylabel('loss')\n",
    "plt.title('Training and validation loss')\n",
    "plt.grid()\n",
    "\n",
    "plt.figure()\n",
    "plt.plot(range(num_epochs), train_acc_list, color='blue', linestyle='-', label='train_acc')\n",
    "plt.plot(range(num_epochs), val_acc_list, color='green', linestyle='--', label='val_acc')\n",
    "plt.legend()\n",
    "plt.xlabel('epoch')\n",
    "plt.ylabel('acc')\n",
    "plt.title('Training and validation accuracy')\n",
    "plt.grid()"
   ]
  },
  {
   "cell_type": "code",
   "execution_count": 9,
   "id": "a5bff273-d269-4a30-b048-1bed5c209274",
   "metadata": {},
   "outputs": [],
   "source": [
    "test_dataset = CustomDataset(\"gotobunnohanayome\", data_transforms[\"val\"], content=\"test\")\n",
    "test_loader = torch.utils.data.DataLoader(dataset=test_dataset, batch_size=4, shuffle=False, num_workers=0)"
   ]
  },
  {
   "cell_type": "code",
   "execution_count": 10,
   "id": "6c703e73-e67e-49e5-88a8-5e5296897dad",
   "metadata": {},
   "outputs": [
    {
     "name": "stdout",
     "output_type": "stream",
     "text": [
      "test_loss: 0.0285, test_acc: 0.9730\n"
     ]
    }
   ],
   "source": [
    "model = models.densenet121(pretrained=False)\n",
    "model = model.to(USE_DEVICE)\n",
    "num_ftrs = model.classifier.in_features\n",
    "model.classifier = nn.Linear(num_ftrs, 5).to(USE_DEVICE)\n",
    "model.load_state_dict(torch.load(\"gotobunnohanayome/params/model1.pth\", map_location=torch.device(USE_DEVICE)))\n",
    "model.eval()\n",
    "test_loss = 0\n",
    "test_acc = 0\n",
    "with torch.no_grad():\n",
    "    for images, labels in test_loader:\n",
    "        images = images.to(USE_DEVICE)\n",
    "        labels = labels.to(USE_DEVICE)\n",
    "        outputs = model(images)\n",
    "        \n",
    "        loss = criterion(outputs, labels)\n",
    "        test_loss += loss.item()\n",
    "        test_acc += (outputs.max(1)[1] == labels).sum().item()\n",
    "avg_test_loss = test_loss / len(test_loader.dataset)\n",
    "avg_test_acc = test_acc / len(test_loader.dataset)\n",
    "\n",
    "print (\"test_loss: {test_loss:.4f}, test_acc: {test_acc:.4f}\"\n",
    "                       .format(test_loss=avg_test_loss, test_acc=avg_test_acc))"
   ]
  },
  {
   "cell_type": "code",
   "execution_count": null,
   "id": "4fb3e7a7-0bd2-4a01-b5f8-f81c3f1656ce",
   "metadata": {},
   "outputs": [],
   "source": []
  }
 ],
 "metadata": {
  "kernelspec": {
   "display_name": "aic-gan-en",
   "language": "python",
   "name": "aic-gan-en"
  },
  "language_info": {
   "codemirror_mode": {
    "name": "ipython",
    "version": 3
   },
   "file_extension": ".py",
   "mimetype": "text/x-python",
   "name": "python",
   "nbconvert_exporter": "python",
   "pygments_lexer": "ipython3",
   "version": "3.7.6"
  }
 },
 "nbformat": 4,
 "nbformat_minor": 5
}
